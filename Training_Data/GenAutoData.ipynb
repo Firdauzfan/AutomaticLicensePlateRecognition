{
 "cells": [
  {
   "cell_type": "code",
   "execution_count": 1,
   "metadata": {},
   "outputs": [],
   "source": [
    "import os"
   ]
  },
  {
   "cell_type": "code",
   "execution_count": 21,
   "metadata": {},
   "outputs": [
    {
     "name": "stdout",
     "output_type": "stream",
     "text": [
      "Counting all .txt files in: /home/gspeff/Documents/Project/Automatic License Plate Recognition/ALPR-Indonesian-plate-master/Training_Data\n",
      "\n",
      "File #1: platindo.jpg\n",
      "\n",
      "File #2: cobaplatindo.jpg\n",
      "\n",
      "Total number of .txt files in: /home/gspeff/Documents/Project/Automatic License Plate Recognition/ALPR-Indonesian-plate-master/Training_Data -\n",
      "2\n"
     ]
    }
   ],
   "source": [
    "filenames= os.listdir (\".\")\n",
    "\n",
    "path = os.getcwd()\n",
    "print (\"Counting all .txt files in: \" + path)\n",
    "x=0\n",
    "for files in os.listdir(path):\n",
    "    if files.endswith('.jpg'):\n",
    "        x+=1\n",
    "        print (\"\\nFile #\" + str(x) + \": \" + files)\n",
    "print (\"\\nTotal number of .txt files in: \" + path + \" -\")\n",
    "print (x)\n",
    "        "
   ]
  },
  {
   "cell_type": "code",
   "execution_count": 17,
   "metadata": {},
   "outputs": [
    {
     "name": "stdout",
     "output_type": "stream",
     "text": [
      "48\n"
     ]
    }
   ],
   "source": [
    "print(ord('0'))"
   ]
  }
 ],
 "metadata": {
  "kernelspec": {
   "display_name": "Python 3",
   "language": "python",
   "name": "python3"
  },
  "language_info": {
   "codemirror_mode": {
    "name": "ipython",
    "version": 3
   },
   "file_extension": ".py",
   "mimetype": "text/x-python",
   "name": "python",
   "nbconvert_exporter": "python",
   "pygments_lexer": "ipython3",
   "version": "3.6.6"
  }
 },
 "nbformat": 4,
 "nbformat_minor": 2
}
